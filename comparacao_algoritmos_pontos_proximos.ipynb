{
 "cells": [
  {
   "cell_type": "markdown",
   "id": "f49356c6",
   "metadata": {},
   "source": [
    "# Comparação entre Algoritmos para Encontrar o Par de Pontos Mais Próximos\n",
    "Este notebook compara dois algoritmos para resolver o problema de encontrar o par de pontos mais próximos em um plano 2D:\n",
    "1. **Algoritmo de Força Bruta** (complexidade O(n²))\n",
    "2. **Algoritmo de Divisão e Conquista** (complexidade O(n log n))\n",
    "Vamos analisar a eficiência de ambos os algoritmos com diferentes tamanhos de entrada."
   ]
  },
  {
   "cell_type": "code",
   "execution_count": 1,
   "id": "e951c163",
   "metadata": {},
   "outputs": [],
   "source": [
    "import numpy as np\n",
    "import time\n",
    "import matplotlib.pyplot as plt\n"
   ]
  },
  {
   "cell_type": "markdown",
   "id": "f93a59e3",
   "metadata": {},
   "source": [
    "## Função para Gerar Pontos Aleatórios\n",
    "Esta função gera pontos aleatórios no plano 2D com coordenadas distribuídas uniformemente em um intervalo.\n"
   ]
  },
  {
   "cell_type": "code",
   "execution_count": 2,
   "id": "fbd9834d",
   "metadata": {},
   "outputs": [],
   "source": [
    "def generate_points(n, seed=None):\n",
    "    if seed is not None:\n",
    "        np.random.seed(seed)\n",
    "    return np.random.uniform(-2 * n, 2 * n, (n, 2))"
   ]
  },
  {
   "cell_type": "markdown",
   "id": "35b52268",
   "metadata": {},
   "source": [
    "## Algoritmo de Força Bruta (O(n²))\n",
    "Este é o algoritmo ingênuo que verifica todas as combinações de pares de pontos e calcula as distâncias entre eles.\n"
   ]
  },
  {
   "cell_type": "code",
   "execution_count": 3,
   "id": "0b440df0",
   "metadata": {},
   "outputs": [],
   "source": [
    "def brute_force_closest_pair(points):\n",
    "    min_dist = float('inf')\n",
    "    n = len(points)\n",
    "    for i in range(n):\n",
    "        for j in range(i + 1, n):\n",
    "            dist = np.linalg.norm(points[i] - points[j])\n",
    "            min_dist = min(min_dist, dist)\n",
    "    return min_dist"
   ]
  },
  {
   "cell_type": "markdown",
   "id": "bd2a975e",
   "metadata": {},
   "source": [
    "## Algoritmo de Divisão e Conquista (O(n log n))\n",
    "Este algoritmo utiliza uma abordagem recursiva, dividindo os pontos em subgrupos até que o número de pontos seja pequeno o suficiente para usar o algoritmo de força bruta.\n"
   ]
  },
  {
   "cell_type": "code",
   "execution_count": 4,
   "id": "53153281",
   "metadata": {},
   "outputs": [],
   "source": [
    "def closest_pair_recursive(points_sorted_x, points_sorted_y):\n",
    "    n = len(points_sorted_x)\n",
    "    if n <= 3:\n",
    "        return brute_force_closest_pair(points_sorted_x)\n",
    "    \n",
    "    mid = n // 2\n",
    "    left_x, right_x = points_sorted_x[:mid], points_sorted_x[mid:]\n",
    "    mid_x = points_sorted_x[mid][0]\n",
    "    \n",
    "    left_y = [p for p in points_sorted_y if p[0] <= mid_x]\n",
    "    right_y = [p for p in points_sorted_y if p[0] > mid_x]\n",
    "    \n",
    "    d = min(closest_pair_recursive(left_x, left_y), closest_pair_recursive(right_x, right_y))\n",
    "    \n",
    "    strip = [p for p in points_sorted_y if abs(p[0] - mid_x) < d]\n",
    "    strip_size = len(strip)\n",
    "    for i in range(strip_size):\n",
    "        for j in range(i + 1, min(i + 7, strip_size)):\n",
    "            d = min(d, np.linalg.norm(strip[i] - strip[j]))\n",
    "    \n",
    "    return d\n",
    "\n",
    "def divide_and_conquer_closest_pair(points):\n",
    "    points_sorted_x = sorted(points, key=lambda p: p[0])\n",
    "    points_sorted_y = sorted(points, key=lambda p: p[1])\n",
    "    return closest_pair_recursive(points_sorted_x, points_sorted_y)"
   ]
  },
  {
   "cell_type": "markdown",
   "id": "b37b765f",
   "metadata": {},
   "source": [
    "## Função para Executar os Testes\n",
    "Esta função executa os algoritmos para diferentes tamanhos de entrada, repetindo os testes várias vezes para obter tempos médios de execução.\n"
   ]
  },
  {
   "cell_type": "code",
   "execution_count": 5,
   "id": "c50cce9c",
   "metadata": {},
   "outputs": [],
   "source": [
    "def run_tests(sizes, m, use_seed=False):\n",
    "    brute_force_times, divide_conquer_times = [], []\n",
    "    \n",
    "    for i, n in enumerate(sizes):\n",
    "        seed = 42 + i if use_seed else None\n",
    "        times_brute, times_dc = [], []\n",
    "        \n",
    "        for _ in range(m):\n",
    "            points = generate_points(n, seed)\n",
    "            \n",
    "            start = time.time()\n",
    "            bf_result = brute_force_closest_pair(points)\n",
    "            times_brute.append(time.time() - start)\n",
    "            \n",
    "            start = time.time()\n",
    "            dc_result = divide_and_conquer_closest_pair(points)\n",
    "            times_dc.append(time.time() - start)\n",
    "            \n",
    "            assert bf_result == dc_result, f\"Erro: Resultados diferentes para n={n}!\"\n",
    "        \n",
    "        brute_force_times.append(np.mean(times_brute))\n",
    "        divide_conquer_times.append(np.mean(times_dc))\n",
    "        print(f\"✔ Teste {i+1}/{len(sizes)} | n = {n} | FB: {brute_force_times[-1]:.5f}s | D&C: {divide_conquer_times[-1]:.5f}s\")\n",
    "    \n",
    "    return brute_force_times, divide_conquer_times"
   ]
  },
  {
   "cell_type": "markdown",
   "id": "e08fccc6",
   "metadata": {},
   "source": [
    "## Função para Plotar os Resultados\n",
    "Aqui é gerado o gráfico para comparar os tempos de execução dos dois algoritmos.\n"
   ]
  },
  {
   "cell_type": "code",
   "execution_count": 6,
   "id": "a412ecf9",
   "metadata": {},
   "outputs": [],
   "source": [
    "def plot_results(sizes, brute_force_times, divide_conquer_times):\n",
    "    plt.figure(figsize=(10, 6))\n",
    "    plt.plot(sizes, brute_force_times, 'ro--', label=\"Força Bruta (O(n²))\")\n",
    "    plt.plot(sizes, divide_conquer_times, 'bs-', label=\"Divisão e Conquista (O(n log n))\")\n",
    "    plt.xlabel(\"Tamanho da Entrada (n)\")\n",
    "    plt.ylabel(\"Tempo de Execução (s)\")\n",
    "    plt.title(\"Comparação de Algoritmos para Par de Pontos Mais Próximos\")\n",
    "    plt.legend()\n",
    "    plt.grid()\n",
    "    plt.show()"
   ]
  },
  {
   "cell_type": "markdown",
   "id": "b1a600a6",
   "metadata": {},
   "source": [
    "## Execução Automática\n",
    "Nesta célula, vamos rodar os testes com tamanhos de entrada aleatórios e exibir os resultados gráficos.\n"
   ]
  },
  {
   "cell_type": "code",
   "execution_count": 7,
   "id": "5a08bb61",
   "metadata": {},
   "outputs": [
    {
     "name": "stdout",
     "output_type": "stream",
     "text": [
      "Executando testes com 103 tamanhos de entrada e 11 repetições cada...\n",
      "✔ Teste 1/103 | n = 10 | FB: 0.00018s | D&C: 0.00009s\n",
      "✔ Teste 2/103 | n = 107 | FB: 0.01974s | D&C: 0.00215s\n",
      "✔ Teste 3/103 | n = 205 | FB: 0.07061s | D&C: 0.00509s\n",
      "✔ Teste 4/103 | n = 303 | FB: 0.15270s | D&C: 0.00834s\n",
      "✔ Teste 5/103 | n = 401 | FB: 0.26758s | D&C: 0.01146s\n",
      "✔ Teste 6/103 | n = 499 | FB: 0.41700s | D&C: 0.01618s\n",
      "✔ Teste 7/103 | n = 597 | FB: 0.59336s | D&C: 0.01950s\n",
      "✔ Teste 8/103 | n = 695 | FB: 0.80484s | D&C: 0.02305s\n",
      "✔ Teste 9/103 | n = 793 | FB: 1.05049s | D&C: 0.02766s\n",
      "✔ Teste 10/103 | n = 891 | FB: 1.32451s | D&C: 0.03160s\n",
      "✔ Teste 11/103 | n = 989 | FB: 1.63334s | D&C: 0.03706s\n",
      "✔ Teste 12/103 | n = 1087 | FB: 1.97192s | D&C: 0.04125s\n",
      "✔ Teste 13/103 | n = 1185 | FB: 2.34562s | D&C: 0.04533s\n",
      "✔ Teste 14/103 | n = 1283 | FB: 2.75189s | D&C: 0.04910s\n",
      "✔ Teste 15/103 | n = 1381 | FB: 3.19099s | D&C: 0.05424s\n",
      "✔ Teste 16/103 | n = 1479 | FB: 3.65640s | D&C: 0.05871s\n",
      "✔ Teste 17/103 | n = 1577 | FB: 4.16458s | D&C: 0.06261s\n",
      "✔ Teste 18/103 | n = 1675 | FB: 4.70000s | D&C: 0.07019s\n",
      "✔ Teste 19/103 | n = 1772 | FB: 5.27785s | D&C: 0.07430s\n",
      "✔ Teste 20/103 | n = 1870 | FB: 5.87145s | D&C: 0.07927s\n",
      "✔ Teste 21/103 | n = 1968 | FB: 6.50660s | D&C: 0.08538s\n",
      "✔ Teste 22/103 | n = 2066 | FB: 7.15534s | D&C: 0.09039s\n",
      "✔ Teste 23/103 | n = 2164 | FB: 7.85555s | D&C: 0.09580s\n",
      "✔ Teste 24/103 | n = 2262 | FB: 8.58658s | D&C: 0.09994s\n",
      "✔ Teste 25/103 | n = 2360 | FB: 9.32807s | D&C: 0.10659s\n",
      "✔ Teste 26/103 | n = 2458 | FB: 10.14562s | D&C: 0.10977s\n",
      "✔ Teste 27/103 | n = 2556 | FB: 10.94645s | D&C: 0.11392s\n",
      "✔ Teste 28/103 | n = 2654 | FB: 11.83109s | D&C: 0.11961s\n",
      "✔ Teste 29/103 | n = 2752 | FB: 12.72115s | D&C: 0.12716s\n",
      "✔ Teste 30/103 | n = 2850 | FB: 13.64708s | D&C: 0.12929s\n",
      "✔ Teste 31/103 | n = 2948 | FB: 14.59505s | D&C: 0.13557s\n",
      "✔ Teste 32/103 | n = 3046 | FB: 15.56680s | D&C: 0.14191s\n",
      "✔ Teste 33/103 | n = 3144 | FB: 16.62167s | D&C: 0.14641s\n",
      "✔ Teste 34/103 | n = 3242 | FB: 17.65335s | D&C: 0.15201s\n",
      "✔ Teste 35/103 | n = 3340 | FB: 18.69787s | D&C: 0.15957s\n",
      "✔ Teste 36/103 | n = 3437 | FB: 19.78622s | D&C: 0.16511s\n",
      "✔ Teste 37/103 | n = 3535 | FB: 20.89621s | D&C: 0.17069s\n",
      "✔ Teste 38/103 | n = 3633 | FB: 22.10036s | D&C: 0.17547s\n",
      "✔ Teste 39/103 | n = 3731 | FB: 23.33014s | D&C: 0.18319s\n",
      "✔ Teste 40/103 | n = 3829 | FB: 24.47884s | D&C: 0.18938s\n",
      "✔ Teste 41/103 | n = 3927 | FB: 25.70348s | D&C: 0.19415s\n",
      "✔ Teste 42/103 | n = 4025 | FB: 27.02704s | D&C: 0.19877s\n",
      "✔ Teste 43/103 | n = 4123 | FB: 28.42694s | D&C: 0.20719s\n",
      "✔ Teste 44/103 | n = 4221 | FB: 29.78503s | D&C: 0.21236s\n",
      "✔ Teste 45/103 | n = 4319 | FB: 31.23571s | D&C: 0.21991s\n",
      "✔ Teste 46/103 | n = 4417 | FB: 32.62691s | D&C: 0.22701s\n",
      "✔ Teste 47/103 | n = 4515 | FB: 34.14823s | D&C: 0.23060s\n",
      "✔ Teste 48/103 | n = 4613 | FB: 38.61529s | D&C: 0.25572s\n",
      "✔ Teste 49/103 | n = 4711 | FB: 37.12067s | D&C: 0.24767s\n",
      "✔ Teste 50/103 | n = 4809 | FB: 38.73492s | D&C: 0.24831s\n",
      "✔ Teste 51/103 | n = 4907 | FB: 40.29473s | D&C: 0.25612s\n",
      "✔ Teste 52/103 | n = 5005 | FB: 41.91486s | D&C: 0.25842s\n",
      "✔ Teste 53/103 | n = 5102 | FB: 43.53931s | D&C: 0.26175s\n",
      "✔ Teste 54/103 | n = 5200 | FB: 45.78278s | D&C: 0.26989s\n",
      "✔ Teste 55/103 | n = 5298 | FB: 47.03073s | D&C: 0.27455s\n",
      "✔ Teste 56/103 | n = 5396 | FB: 49.30517s | D&C: 0.27674s\n",
      "✔ Teste 57/103 | n = 5494 | FB: 50.65187s | D&C: 0.28927s\n",
      "✔ Teste 58/103 | n = 5592 | FB: 52.36224s | D&C: 0.28862s\n",
      "✔ Teste 59/103 | n = 5690 | FB: 54.14834s | D&C: 0.30092s\n",
      "✔ Teste 60/103 | n = 5788 | FB: 55.95319s | D&C: 0.30277s\n",
      "✔ Teste 61/103 | n = 5886 | FB: 57.89595s | D&C: 0.30778s\n",
      "✔ Teste 62/103 | n = 5984 | FB: 59.82226s | D&C: 0.31346s\n",
      "✔ Teste 63/103 | n = 6082 | FB: 61.82768s | D&C: 0.31927s\n",
      "✔ Teste 64/103 | n = 6180 | FB: 63.81616s | D&C: 0.32606s\n",
      "✔ Teste 65/103 | n = 6278 | FB: 65.77973s | D&C: 0.33247s\n",
      "✔ Teste 66/103 | n = 6376 | FB: 67.81820s | D&C: 0.33472s\n",
      "✔ Teste 67/103 | n = 6474 | FB: 70.00466s | D&C: 0.34164s\n",
      "✔ Teste 68/103 | n = 6572 | FB: 72.21190s | D&C: 0.34934s\n",
      "✔ Teste 69/103 | n = 6670 | FB: 74.63407s | D&C: 0.36031s\n",
      "✔ Teste 70/103 | n = 6767 | FB: 76.56530s | D&C: 0.36248s\n",
      "✔ Teste 71/103 | n = 6865 | FB: 78.78310s | D&C: 0.37132s\n",
      "✔ Teste 72/103 | n = 6963 | FB: 81.08688s | D&C: 0.37808s\n",
      "✔ Teste 73/103 | n = 7061 | FB: 83.42160s | D&C: 0.38588s\n",
      "✔ Teste 74/103 | n = 7159 | FB: 85.75277s | D&C: 0.39058s\n",
      "✔ Teste 75/103 | n = 7257 | FB: 88.12911s | D&C: 0.39938s\n",
      "✔ Teste 76/103 | n = 7355 | FB: 90.48361s | D&C: 0.40531s\n",
      "✔ Teste 77/103 | n = 7453 | FB: 92.90769s | D&C: 0.41268s\n",
      "✔ Teste 78/103 | n = 7551 | FB: 95.35388s | D&C: 0.42455s\n",
      "✔ Teste 79/103 | n = 7649 | FB: 97.84814s | D&C: 0.42483s\n",
      "✔ Teste 80/103 | n = 7747 | FB: 101.19107s | D&C: 0.43379s\n",
      "✔ Teste 81/103 | n = 7845 | FB: 103.89682s | D&C: 0.44444s\n",
      "✔ Teste 82/103 | n = 7943 | FB: 106.59060s | D&C: 0.45318s\n",
      "✔ Teste 83/103 | n = 8041 | FB: 109.68891s | D&C: 0.46915s\n",
      "✔ Teste 84/103 | n = 8139 | FB: 112.32018s | D&C: 0.46956s\n",
      "✔ Teste 85/103 | n = 8237 | FB: 115.50007s | D&C: 0.48386s\n",
      "✔ Teste 86/103 | n = 8335 | FB: 117.12299s | D&C: 0.47924s\n",
      "✔ Teste 87/103 | n = 8432 | FB: 120.02474s | D&C: 0.48224s\n"
     ]
    }
   ],
   "source": [
    "if __name__ == \"__main__\":\n",
    "    k = np.random.randint(100, 201)  # Escolher k aleatoriamente entre 100 e 200\n",
    "    sizes = np.linspace(10, 10000, num=k, dtype=int)  # Escolher k valores espaçados entre 10 e 10.000\n",
    "    m = np.random.randint(10, 21)  # Escolher m aleatoriamente entre 10 e 20\n",
    "    \n",
    "    print(f\"Executando testes com {k} tamanhos de entrada e {m} repetições cada...\")\n",
    "    brute_force_times, divide_conquer_times = run_tests(sizes, m)\n",
    "    plot_results(sizes, brute_force_times, divide_conquer_times)"
   ]
  }
 ],
 "metadata": {
  "kernelspec": {
   "display_name": "Python 3",
   "language": "python",
   "name": "python3"
  },
  "language_info": {
   "codemirror_mode": {
    "name": "ipython",
    "version": 3
   },
   "file_extension": ".py",
   "mimetype": "text/x-python",
   "name": "python",
   "nbconvert_exporter": "python",
   "pygments_lexer": "ipython3",
   "version": "3.13.1"
  }
 },
 "nbformat": 4,
 "nbformat_minor": 5
}
